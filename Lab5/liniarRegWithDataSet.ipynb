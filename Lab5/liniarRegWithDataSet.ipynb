{
 "cells": [
  {
   "cell_type": "code",
   "execution_count": 2,
   "id": "85a85a1a-55b0-436d-b621-2697346e5962",
   "metadata": {},
   "outputs": [],
   "source": [
    "import numpy as np\n",
    "import pandas as pd\n",
    "import matplotlib.pyplot as plt\n",
    "import copy"
   ]
  },
  {
   "cell_type": "markdown",
   "id": "9ba6cfdf-aabf-49e3-8a6c-621533acae79",
   "metadata": {},
   "source": [
    "### Data Preprocessing"
   ]
  },
  {
   "cell_type": "code",
   "execution_count": 3,
   "id": "1441cf72-0ae1-49b0-8aab-9a5e912d3369",
   "metadata": {},
   "outputs": [],
   "source": [
    "data = pd.read_csv('data.csv')\n"
   ]
  },
  {
   "cell_type": "code",
   "execution_count": 4,
   "id": "19056b12-8c31-4aa0-b4eb-8309d7e4c493",
   "metadata": {},
   "outputs": [
    {
     "data": {
      "text/html": [
       "<div>\n",
       "<style scoped>\n",
       "    .dataframe tbody tr th:only-of-type {\n",
       "        vertical-align: middle;\n",
       "    }\n",
       "\n",
       "    .dataframe tbody tr th {\n",
       "        vertical-align: top;\n",
       "    }\n",
       "\n",
       "    .dataframe thead th {\n",
       "        text-align: right;\n",
       "    }\n",
       "</style>\n",
       "<table border=\"1\" class=\"dataframe\">\n",
       "  <thead>\n",
       "    <tr style=\"text-align: right;\">\n",
       "      <th></th>\n",
       "      <th>date</th>\n",
       "      <th>price</th>\n",
       "      <th>bedrooms</th>\n",
       "      <th>bathrooms</th>\n",
       "      <th>sqft_living</th>\n",
       "      <th>sqft_lot</th>\n",
       "      <th>floors</th>\n",
       "      <th>waterfront</th>\n",
       "      <th>view</th>\n",
       "      <th>condition</th>\n",
       "      <th>sqft_above</th>\n",
       "      <th>sqft_basement</th>\n",
       "      <th>yr_built</th>\n",
       "      <th>yr_renovated</th>\n",
       "      <th>street</th>\n",
       "      <th>city</th>\n",
       "      <th>statezip</th>\n",
       "      <th>country</th>\n",
       "    </tr>\n",
       "  </thead>\n",
       "  <tbody>\n",
       "    <tr>\n",
       "      <th>0</th>\n",
       "      <td>2014-05-02 00:00:00</td>\n",
       "      <td>3.130000e+05</td>\n",
       "      <td>3.0</td>\n",
       "      <td>1.50</td>\n",
       "      <td>1340</td>\n",
       "      <td>7912</td>\n",
       "      <td>1.5</td>\n",
       "      <td>0</td>\n",
       "      <td>0</td>\n",
       "      <td>3</td>\n",
       "      <td>1340</td>\n",
       "      <td>0</td>\n",
       "      <td>1955</td>\n",
       "      <td>2005</td>\n",
       "      <td>18810 Densmore Ave N</td>\n",
       "      <td>Shoreline</td>\n",
       "      <td>WA 98133</td>\n",
       "      <td>USA</td>\n",
       "    </tr>\n",
       "    <tr>\n",
       "      <th>1</th>\n",
       "      <td>2014-05-02 00:00:00</td>\n",
       "      <td>2.384000e+06</td>\n",
       "      <td>5.0</td>\n",
       "      <td>2.50</td>\n",
       "      <td>3650</td>\n",
       "      <td>9050</td>\n",
       "      <td>2.0</td>\n",
       "      <td>0</td>\n",
       "      <td>4</td>\n",
       "      <td>5</td>\n",
       "      <td>3370</td>\n",
       "      <td>280</td>\n",
       "      <td>1921</td>\n",
       "      <td>0</td>\n",
       "      <td>709 W Blaine St</td>\n",
       "      <td>Seattle</td>\n",
       "      <td>WA 98119</td>\n",
       "      <td>USA</td>\n",
       "    </tr>\n",
       "    <tr>\n",
       "      <th>2</th>\n",
       "      <td>2014-05-02 00:00:00</td>\n",
       "      <td>3.420000e+05</td>\n",
       "      <td>3.0</td>\n",
       "      <td>2.00</td>\n",
       "      <td>1930</td>\n",
       "      <td>11947</td>\n",
       "      <td>1.0</td>\n",
       "      <td>0</td>\n",
       "      <td>0</td>\n",
       "      <td>4</td>\n",
       "      <td>1930</td>\n",
       "      <td>0</td>\n",
       "      <td>1966</td>\n",
       "      <td>0</td>\n",
       "      <td>26206-26214 143rd Ave SE</td>\n",
       "      <td>Kent</td>\n",
       "      <td>WA 98042</td>\n",
       "      <td>USA</td>\n",
       "    </tr>\n",
       "    <tr>\n",
       "      <th>3</th>\n",
       "      <td>2014-05-02 00:00:00</td>\n",
       "      <td>4.200000e+05</td>\n",
       "      <td>3.0</td>\n",
       "      <td>2.25</td>\n",
       "      <td>2000</td>\n",
       "      <td>8030</td>\n",
       "      <td>1.0</td>\n",
       "      <td>0</td>\n",
       "      <td>0</td>\n",
       "      <td>4</td>\n",
       "      <td>1000</td>\n",
       "      <td>1000</td>\n",
       "      <td>1963</td>\n",
       "      <td>0</td>\n",
       "      <td>857 170th Pl NE</td>\n",
       "      <td>Bellevue</td>\n",
       "      <td>WA 98008</td>\n",
       "      <td>USA</td>\n",
       "    </tr>\n",
       "    <tr>\n",
       "      <th>4</th>\n",
       "      <td>2014-05-02 00:00:00</td>\n",
       "      <td>5.500000e+05</td>\n",
       "      <td>4.0</td>\n",
       "      <td>2.50</td>\n",
       "      <td>1940</td>\n",
       "      <td>10500</td>\n",
       "      <td>1.0</td>\n",
       "      <td>0</td>\n",
       "      <td>0</td>\n",
       "      <td>4</td>\n",
       "      <td>1140</td>\n",
       "      <td>800</td>\n",
       "      <td>1976</td>\n",
       "      <td>1992</td>\n",
       "      <td>9105 170th Ave NE</td>\n",
       "      <td>Redmond</td>\n",
       "      <td>WA 98052</td>\n",
       "      <td>USA</td>\n",
       "    </tr>\n",
       "    <tr>\n",
       "      <th>...</th>\n",
       "      <td>...</td>\n",
       "      <td>...</td>\n",
       "      <td>...</td>\n",
       "      <td>...</td>\n",
       "      <td>...</td>\n",
       "      <td>...</td>\n",
       "      <td>...</td>\n",
       "      <td>...</td>\n",
       "      <td>...</td>\n",
       "      <td>...</td>\n",
       "      <td>...</td>\n",
       "      <td>...</td>\n",
       "      <td>...</td>\n",
       "      <td>...</td>\n",
       "      <td>...</td>\n",
       "      <td>...</td>\n",
       "      <td>...</td>\n",
       "      <td>...</td>\n",
       "    </tr>\n",
       "    <tr>\n",
       "      <th>4595</th>\n",
       "      <td>2014-07-09 00:00:00</td>\n",
       "      <td>3.081667e+05</td>\n",
       "      <td>3.0</td>\n",
       "      <td>1.75</td>\n",
       "      <td>1510</td>\n",
       "      <td>6360</td>\n",
       "      <td>1.0</td>\n",
       "      <td>0</td>\n",
       "      <td>0</td>\n",
       "      <td>4</td>\n",
       "      <td>1510</td>\n",
       "      <td>0</td>\n",
       "      <td>1954</td>\n",
       "      <td>1979</td>\n",
       "      <td>501 N 143rd St</td>\n",
       "      <td>Seattle</td>\n",
       "      <td>WA 98133</td>\n",
       "      <td>USA</td>\n",
       "    </tr>\n",
       "    <tr>\n",
       "      <th>4596</th>\n",
       "      <td>2014-07-09 00:00:00</td>\n",
       "      <td>5.343333e+05</td>\n",
       "      <td>3.0</td>\n",
       "      <td>2.50</td>\n",
       "      <td>1460</td>\n",
       "      <td>7573</td>\n",
       "      <td>2.0</td>\n",
       "      <td>0</td>\n",
       "      <td>0</td>\n",
       "      <td>3</td>\n",
       "      <td>1460</td>\n",
       "      <td>0</td>\n",
       "      <td>1983</td>\n",
       "      <td>2009</td>\n",
       "      <td>14855 SE 10th Pl</td>\n",
       "      <td>Bellevue</td>\n",
       "      <td>WA 98007</td>\n",
       "      <td>USA</td>\n",
       "    </tr>\n",
       "    <tr>\n",
       "      <th>4597</th>\n",
       "      <td>2014-07-09 00:00:00</td>\n",
       "      <td>4.169042e+05</td>\n",
       "      <td>3.0</td>\n",
       "      <td>2.50</td>\n",
       "      <td>3010</td>\n",
       "      <td>7014</td>\n",
       "      <td>2.0</td>\n",
       "      <td>0</td>\n",
       "      <td>0</td>\n",
       "      <td>3</td>\n",
       "      <td>3010</td>\n",
       "      <td>0</td>\n",
       "      <td>2009</td>\n",
       "      <td>0</td>\n",
       "      <td>759 Ilwaco Pl NE</td>\n",
       "      <td>Renton</td>\n",
       "      <td>WA 98059</td>\n",
       "      <td>USA</td>\n",
       "    </tr>\n",
       "    <tr>\n",
       "      <th>4598</th>\n",
       "      <td>2014-07-10 00:00:00</td>\n",
       "      <td>2.034000e+05</td>\n",
       "      <td>4.0</td>\n",
       "      <td>2.00</td>\n",
       "      <td>2090</td>\n",
       "      <td>6630</td>\n",
       "      <td>1.0</td>\n",
       "      <td>0</td>\n",
       "      <td>0</td>\n",
       "      <td>3</td>\n",
       "      <td>1070</td>\n",
       "      <td>1020</td>\n",
       "      <td>1974</td>\n",
       "      <td>0</td>\n",
       "      <td>5148 S Creston St</td>\n",
       "      <td>Seattle</td>\n",
       "      <td>WA 98178</td>\n",
       "      <td>USA</td>\n",
       "    </tr>\n",
       "    <tr>\n",
       "      <th>4599</th>\n",
       "      <td>2014-07-10 00:00:00</td>\n",
       "      <td>2.206000e+05</td>\n",
       "      <td>3.0</td>\n",
       "      <td>2.50</td>\n",
       "      <td>1490</td>\n",
       "      <td>8102</td>\n",
       "      <td>2.0</td>\n",
       "      <td>0</td>\n",
       "      <td>0</td>\n",
       "      <td>4</td>\n",
       "      <td>1490</td>\n",
       "      <td>0</td>\n",
       "      <td>1990</td>\n",
       "      <td>0</td>\n",
       "      <td>18717 SE 258th St</td>\n",
       "      <td>Covington</td>\n",
       "      <td>WA 98042</td>\n",
       "      <td>USA</td>\n",
       "    </tr>\n",
       "  </tbody>\n",
       "</table>\n",
       "<p>4600 rows × 18 columns</p>\n",
       "</div>"
      ],
      "text/plain": [
       "                     date         price  bedrooms  bathrooms  sqft_living  \\\n",
       "0     2014-05-02 00:00:00  3.130000e+05       3.0       1.50         1340   \n",
       "1     2014-05-02 00:00:00  2.384000e+06       5.0       2.50         3650   \n",
       "2     2014-05-02 00:00:00  3.420000e+05       3.0       2.00         1930   \n",
       "3     2014-05-02 00:00:00  4.200000e+05       3.0       2.25         2000   \n",
       "4     2014-05-02 00:00:00  5.500000e+05       4.0       2.50         1940   \n",
       "...                   ...           ...       ...        ...          ...   \n",
       "4595  2014-07-09 00:00:00  3.081667e+05       3.0       1.75         1510   \n",
       "4596  2014-07-09 00:00:00  5.343333e+05       3.0       2.50         1460   \n",
       "4597  2014-07-09 00:00:00  4.169042e+05       3.0       2.50         3010   \n",
       "4598  2014-07-10 00:00:00  2.034000e+05       4.0       2.00         2090   \n",
       "4599  2014-07-10 00:00:00  2.206000e+05       3.0       2.50         1490   \n",
       "\n",
       "      sqft_lot  floors  waterfront  view  condition  sqft_above  \\\n",
       "0         7912     1.5           0     0          3        1340   \n",
       "1         9050     2.0           0     4          5        3370   \n",
       "2        11947     1.0           0     0          4        1930   \n",
       "3         8030     1.0           0     0          4        1000   \n",
       "4        10500     1.0           0     0          4        1140   \n",
       "...        ...     ...         ...   ...        ...         ...   \n",
       "4595      6360     1.0           0     0          4        1510   \n",
       "4596      7573     2.0           0     0          3        1460   \n",
       "4597      7014     2.0           0     0          3        3010   \n",
       "4598      6630     1.0           0     0          3        1070   \n",
       "4599      8102     2.0           0     0          4        1490   \n",
       "\n",
       "      sqft_basement  yr_built  yr_renovated                    street  \\\n",
       "0                 0      1955          2005      18810 Densmore Ave N   \n",
       "1               280      1921             0           709 W Blaine St   \n",
       "2                 0      1966             0  26206-26214 143rd Ave SE   \n",
       "3              1000      1963             0           857 170th Pl NE   \n",
       "4               800      1976          1992         9105 170th Ave NE   \n",
       "...             ...       ...           ...                       ...   \n",
       "4595              0      1954          1979            501 N 143rd St   \n",
       "4596              0      1983          2009          14855 SE 10th Pl   \n",
       "4597              0      2009             0          759 Ilwaco Pl NE   \n",
       "4598           1020      1974             0         5148 S Creston St   \n",
       "4599              0      1990             0         18717 SE 258th St   \n",
       "\n",
       "           city  statezip country  \n",
       "0     Shoreline  WA 98133     USA  \n",
       "1       Seattle  WA 98119     USA  \n",
       "2          Kent  WA 98042     USA  \n",
       "3      Bellevue  WA 98008     USA  \n",
       "4       Redmond  WA 98052     USA  \n",
       "...         ...       ...     ...  \n",
       "4595    Seattle  WA 98133     USA  \n",
       "4596   Bellevue  WA 98007     USA  \n",
       "4597     Renton  WA 98059     USA  \n",
       "4598    Seattle  WA 98178     USA  \n",
       "4599  Covington  WA 98042     USA  \n",
       "\n",
       "[4600 rows x 18 columns]"
      ]
     },
     "execution_count": 4,
     "metadata": {},
     "output_type": "execute_result"
    }
   ],
   "source": [
    "data\n"
   ]
  },
  {
   "cell_type": "code",
   "execution_count": 15,
   "id": "41c723e9-77d2-47b3-bbc2-08bf2563a492",
   "metadata": {},
   "outputs": [],
   "source": [
    "x_data = data['sqft_living']\n",
    "y_data = data['price']"
   ]
  },
  {
   "cell_type": "code",
   "execution_count": 13,
   "id": "f8f638aa-5612-498a-89ce-e9381bdd016a",
   "metadata": {},
   "outputs": [
    {
     "data": {
      "text/plain": [
       "(4600, 4600)"
      ]
     },
     "execution_count": 13,
     "metadata": {},
     "output_type": "execute_result"
    }
   ],
   "source": [
    "x_data\n",
    "y_data\n",
    "len(x_data), len(y_data)"
   ]
  },
  {
   "cell_type": "code",
   "execution_count": null,
   "id": "77ba4dd5-8299-4f87-bcf7-94a4f8f32d64",
   "metadata": {},
   "outputs": [],
   "source": [
    "# 80% train, 20% validation : random selection"
   ]
  },
  {
   "cell_type": "code",
   "execution_count": 17,
   "id": "5002dbc5-3716-4a98-a6c1-0fabc0fdd7f5",
   "metadata": {},
   "outputs": [
    {
     "ename": "SyntaxError",
     "evalue": "incomplete input (4243159900.py, line 1)",
     "output_type": "error",
     "traceback": [
      "\u001b[1;36m  Cell \u001b[1;32mIn[17], line 1\u001b[1;36m\u001b[0m\n\u001b[1;33m    def train_validation_split(x, y, validation_size=0.2, random_state=None):\u001b[0m\n\u001b[1;37m                                                                             ^\u001b[0m\n\u001b[1;31mSyntaxError\u001b[0m\u001b[1;31m:\u001b[0m incomplete input\n"
     ]
    }
   ],
   "source": [
    "def train_validation_split(x, y, validation_size=0.2, random_state=None):\n",
    "    x_validation = x.sample()"
   ]
  },
  {
   "cell_type": "code",
   "execution_count": null,
   "id": "e625ce1e-4655-45fd-901c-6bba2e5d2d6c",
   "metadata": {},
   "outputs": [],
   "source": []
  },
  {
   "cell_type": "code",
   "execution_count": 16,
   "id": "752f0214-1325-4322-9a08-372ea83587d5",
   "metadata": {},
   "outputs": [
    {
     "data": {
      "image/png": "[encoded data removed]",
      "text/plain": [
       "<Figure size 640x480 with 1 Axes>"
      ]
     },
     "metadata": {},
     "output_type": "display_data"
    }
   ],
   "source": [
    "plt.scatter(x_data, y_data)\n",
    "plt.title(\"Train Data: House\")\n",
    "plt.xlabel(\"Size of house in sq.m:\")\n",
    "plt.ylabel(\"House price\")\n",
    "plt.show()"
   ]
  },
  {
   "cell_type": "code",
   "execution_count": 23,
   "id": "9ab9554f-8a68-4787-a1a5-c8724bdd0450",
   "metadata": {},
   "outputs": [
    {
     "data": {
      "text/plain": [
       "(5,)"
      ]
     },
     "execution_count": 23,
     "metadata": {},
     "output_type": "execute_result"
    }
   ],
   "source": [
    "x_train.shape"
   ]
  },
  {
   "cell_type": "code",
   "execution_count": null,
   "id": "3a36b6a6-46b6-4239-9b19-070739b8075a",
   "metadata": {},
   "outputs": [],
   "source": []
  },
  {
   "cell_type": "code",
   "execution_count": null,
   "id": "5847a7bf-146e-4b62-bea2-c5da2a90fe03",
   "metadata": {},
   "outputs": [],
   "source": []
  },
  {
   "cell_type": "markdown",
   "id": "a09c45bc-9218-42a7-94fd-ada0b0ece511",
   "metadata": {},
   "source": [
    "### Training"
   ]
  },
  {
   "cell_type": "code",
   "execution_count": 8,
   "id": "a4ce7eba-daeb-4f3d-8514-affc379a393d",
   "metadata": {},
   "outputs": [],
   "source": [
    "def compute_cost(x, y, w, b):\n",
    "    m = x.shape[0]\n",
    "    cost = 0\n",
    "\n",
    "    for i in range(0, m):\n",
    "        f_wb = w * x[i] + b\n",
    "        cost += (f_wb - y[i])**2\n",
    "\n",
    "    total_cost = cost / (2 * m)\n",
    "    return total_cost"
   ]
  },
  {
   "cell_type": "code",
   "execution_count": 27,
   "id": "68cdab6c-fb75-4351-a03a-30b12b31cf62",
   "metadata": {},
   "outputs": [
    {
     "data": {
      "text/plain": [
       "9166115265.0"
      ]
     },
     "execution_count": 27,
     "metadata": {},
     "output_type": "execute_result"
    }
   ],
   "source": [
    "compute_cost(x_train, y_train, w=1.5, b=0)"
   ]
  },
  {
   "cell_type": "code",
   "execution_count": 9,
   "id": "e49cf7c1-283c-4c77-977e-987c3d5e8be6",
   "metadata": {},
   "outputs": [],
   "source": [
    "def compute_gradients(x, y, w, b):\n",
    "    m = x.shape[0]\n",
    "    dj_dw = 0\n",
    "    dj_db = 0\n",
    "\n",
    "    for i in range(0, m):\n",
    "        f_wb = w * x[i] + b\n",
    "        dj_dw += (f_wb - y[i]) * x[i]\n",
    "        dj_db += (f_wb - y[i])\n",
    "\n",
    "    dj_dw = dj_dw / m\n",
    "    dj_db = dj_db / m\n",
    "\n",
    "    return dj_dw, dj_db"
   ]
  },
  {
   "cell_type": "code",
   "execution_count": 30,
   "id": "8696de65-5e93-40a9-ba8c-b2cad5ebd815",
   "metadata": {},
   "outputs": [
    {
     "data": {
      "text/plain": [
       "(-9212560.0, -127350.0)"
      ]
     },
     "execution_count": 30,
     "metadata": {},
     "output_type": "execute_result"
    }
   ],
   "source": [
    "compute_gradients(x_train, y_train, w=10, b=10)"
   ]
  },
  {
   "cell_type": "code",
   "execution_count": 10,
   "id": "2472c0f0-9590-4f54-8087-a5c9423b5da5",
   "metadata": {},
   "outputs": [],
   "source": [
    "def gradient_descent(x, y, w_in, b_in, alpha, num_iterations, cost_function, gradient_function):\n",
    "\n",
    "    w = copy.deepcopy(w_in)\n",
    "    b = copy.deepcopy(b_in)\n",
    "\n",
    "    # cost function evolution - loss\n",
    "    j_history = []\n",
    "\n",
    "    for i in range(0, num_iterations):\n",
    "        dj_dw, dj_db = gradient_function(x, y, w, b)\n",
    "\n",
    "        w = w - alpha * dj_dw\n",
    "        b = b - alpha * dj_db\n",
    "\n",
    "        j_history.append(cost_function(x, y, w, b))\n",
    "\n",
    "        print(f\"Iteraton: {i} | Cost: {j_history[i]:.4} | dj_dw: {dj_dw:.4}, | dj_db: {dj_db:.4} | w: {w:.4} | b: {b:.4}\")\n",
    "\n",
    "    return w, b, j_history\n",
    "\n",
    "    \n",
    "    \n",
    "    "
   ]
  },
  {
   "cell_type": "code",
   "execution_count": 24,
   "id": "c16d0a3c-d9ad-4fc8-a6eb-e2e60d9dc17e",
   "metadata": {},
   "outputs": [
    {
     "name": "stdout",
     "output_type": "stream",
     "text": [
      "Iteraton: 0 | Cost: 1.516e+09 | dj_dw: -9.26e+06, | dj_db: -1.28e+05 | w: 2.778e+03 | b: 38.4\n",
      "Iteraton: 1 | Cost: 2.636e+08 | dj_dw: 3.743e+06, | dj_db: 4.983e+04 | w: 1.655e+03 | b: 23.45\n",
      "Iteraton: 2 | Cost: 5.888e+07 | dj_dw: -1.513e+06, | dj_db: -2.206e+04 | w: 2.109e+03 | b: 30.07\n",
      "Iteraton: 3 | Cost: 2.543e+07 | dj_dw: 6.118e+05, | dj_db: 7.003e+03 | w: 1.925e+03 | b: 27.97\n",
      "Iteraton: 4 | Cost: 1.996e+07 | dj_dw: -2.473e+05, | dj_db: -4.746e+03 | w: 2e+03 | b: 29.39\n",
      "Iteraton: 5 | Cost: 1.907e+07 | dj_dw: 1e+05, | dj_db: 3.701 | w: 1.97e+03 | b: 29.39\n",
      "Iteraton: 6 | Cost: 1.892e+07 | dj_dw: -4.04e+04, | dj_db: -1.916e+03 | w: 1.982e+03 | b: 29.97\n",
      "Iteraton: 7 | Cost: 1.889e+07 | dj_dw: 1.636e+04, | dj_db: -1.14e+03 | w: 1.977e+03 | b: 30.31\n",
      "Iteraton: 8 | Cost: 1.889e+07 | dj_dw: -6.587e+03, | dj_db: -1.454e+03 | w: 1.979e+03 | b: 30.74\n",
      "Iteraton: 9 | Cost: 1.889e+07 | dj_dw: 2.689e+03, | dj_db: -1.327e+03 | w: 1.978e+03 | b: 31.14\n",
      "Iteraton: 10 | Cost: 1.889e+07 | dj_dw: -1.061e+03, | dj_db: -1.378e+03 | w: 1.978e+03 | b: 31.56\n",
      "Iteraton: 11 | Cost: 1.889e+07 | dj_dw: 455.1, | dj_db: -1.357e+03 | w: 1.978e+03 | b: 31.96\n",
      "Iteraton: 12 | Cost: 1.889e+07 | dj_dw: -157.8, | dj_db: -1.366e+03 | w: 1.978e+03 | b: 32.37\n",
      "Iteraton: 13 | Cost: 1.889e+07 | dj_dw: 89.97, | dj_db: -1.362e+03 | w: 1.978e+03 | b: 32.78\n",
      "Iteraton: 14 | Cost: 1.889e+07 | dj_dw: -10.19, | dj_db: -1.364e+03 | w: 1.978e+03 | b: 33.19\n",
      "Iteraton: 15 | Cost: 1.889e+07 | dj_dw: 30.3, | dj_db: -1.363e+03 | w: 1.978e+03 | b: 33.6\n",
      "Iteraton: 16 | Cost: 1.889e+07 | dj_dw: 13.93, | dj_db: -1.363e+03 | w: 1.978e+03 | b: 34.01\n",
      "Iteraton: 17 | Cost: 1.888e+07 | dj_dw: 20.55, | dj_db: -1.363e+03 | w: 1.978e+03 | b: 34.42\n",
      "Iteraton: 18 | Cost: 1.888e+07 | dj_dw: 17.87, | dj_db: -1.363e+03 | w: 1.978e+03 | b: 34.83\n",
      "Iteraton: 19 | Cost: 1.888e+07 | dj_dw: 18.95, | dj_db: -1.363e+03 | w: 1.978e+03 | b: 35.23\n",
      "(w, b) found by gradient descent 1.978e+03 35.23\n"
     ]
    }
   ],
   "source": [
    "w_init = 0\n",
    "b_init = 0\n",
    "\n",
    "iterations = 10\n",
    "alpha = 1.0e-5\n",
    "\n",
    "w_final, b_final, j_history = gradient_descent(x=x_train, y=y_train, w_in=w_init, b_in=b_init, alpha=alpha, num_iterations=iterations, cost_function=compute_cost, gradient_function=compute_gradients)\n",
    "print(f\"(w, b) found by gradient descent {w_final:.4} {b_final:.4}\")"
   ]
  },
  {
   "cell_type": "code",
   "execution_count": 25,
   "id": "c918f153-5d82-473a-927e-72281ac082eb",
   "metadata": {},
   "outputs": [
    {
     "data": {
      "text/plain": [
       "[1516077310.0799985,\n",
       " 263575550.75001973,\n",
       " 58880942.8086731,\n",
       " 25427599.256992,\n",
       " 19959911.864977896,\n",
       " 19065870.658561178,\n",
       " 18919292.371351305,\n",
       " 18894870.658259764,\n",
       " 18890412.812352978,\n",
       " 18889217.66078383,\n",
       " 18888555.760492597,\n",
       " 18887981.043438334,\n",
       " 18887420.609509654,\n",
       " 18886862.544767972,\n",
       " 18886304.90213696,\n",
       " 18885747.36340665,\n",
       " 18885189.876569975,\n",
       " 18884632.433124974,\n",
       " 18884075.031679444,\n",
       " 18883517.672003355]"
      ]
     },
     "execution_count": 25,
     "metadata": {},
     "output_type": "execute_result"
    }
   ],
   "source": [
    "j_history"
   ]
  },
  {
   "cell_type": "code",
   "execution_count": null,
   "id": "178d5025-2d27-4c9b-84f8-0d5c2d716638",
   "metadata": {},
   "outputs": [],
   "source": []
  },
  {
   "cell_type": "code",
   "execution_count": null,
   "id": "1af5506a-8063-4354-be06-a9d7ff6a04c7",
   "metadata": {},
   "outputs": [],
   "source": []
  },
  {
   "cell_type": "code",
   "execution_count": null,
   "id": "2aadc8b7-474b-4854-ac66-d9875596cf91",
   "metadata": {},
   "outputs": [],
   "source": []
  },
  {
   "cell_type": "code",
   "execution_count": null,
   "id": "b87623e1-91dd-4ab7-b73d-81767f916dd3",
   "metadata": {},
   "outputs": [],
   "source": []
  },
  {
   "cell_type": "code",
   "execution_count": null,
   "id": "5bf464b3-27f7-4731-9021-2a49405f0e2b",
   "metadata": {},
   "outputs": [],
   "source": []
  },
  {
   "cell_type": "markdown",
   "id": "2d9a18dd-4507-4945-99b9-efafbf7f56c9",
   "metadata": {},
   "source": [
    "### Metrics"
   ]
  },
  {
   "cell_type": "code",
   "execution_count": null,
   "id": "7bec90b6-8266-4259-966d-8923f7bf7329",
   "metadata": {},
   "outputs": [],
   "source": []
  },
  {
   "cell_type": "code",
   "execution_count": 26,
   "id": "ec6ce8a5-8dd8-45f0-bc2c-8bda2a31376e",
   "metadata": {},
   "outputs": [
    {
     "data": {
      "image/png": "[encoded data removed]",
      "text/plain": [
       "<Figure size 640x480 with 1 Axes>"
      ]
     },
     "metadata": {},
     "output_type": "display_data"
    }
   ],
   "source": [
    "plt.plot(j_history)\n",
    "plt.title(\"Loss evolution (Cost function per iteration)\")\n",
    "plt.xlabel(\"Iteration number\")\n",
    "plt.ylabel(\"Cost function\")\n",
    "plt.show()"
   ]
  },
  {
   "cell_type": "code",
   "execution_count": null,
   "id": "4da51969-c647-4d4b-85e2-76a3b030b610",
   "metadata": {},
   "outputs": [],
   "source": []
  },
  {
   "cell_type": "code",
   "execution_count": null,
   "id": "248ce937-2b0d-461b-953d-419f30cae9e3",
   "metadata": {},
   "outputs": [],
   "source": []
  },
  {
   "cell_type": "code",
   "execution_count": 44,
   "id": "df3ab5b5-4639-4692-bb2b-a6b1609f9b53",
   "metadata": {},
   "outputs": [],
   "source": [
    "def r2_score(y, y_):\n",
    "    num = np.sum((y - y_)**2)\n",
    "    denum = np.sum((y - y.mean())**2)\n",
    "\n",
    "    score = 1 - num / denum\n",
    "    return score"
   ]
  },
  {
   "cell_type": "code",
   "execution_count": 45,
   "id": "b96d5475-d7eb-4cde-bf3a-abcfb10eeb4c",
   "metadata": {},
   "outputs": [
    {
     "data": {
      "text/plain": [
       "[59379.87227105263,\n",
       " 98942.9642045718,\n",
       " 118724.51017133139,\n",
       " 158287.60210485058,\n",
       " 197850.69403836975]"
      ]
     },
     "execution_count": 45,
     "metadata": {},
     "output_type": "execute_result"
    }
   ],
   "source": [
    "y_ = [w_final * i + b_final for i in x_train]\n",
    "y_"
   ]
  },
  {
   "cell_type": "code",
   "execution_count": 46,
   "id": "531bbd36-a9c8-4b22-9585-b71f9d5a3bc5",
   "metadata": {},
   "outputs": [
    {
     "data": {
      "text/plain": [
       "0.9808871278623448"
      ]
     },
     "execution_count": 46,
     "metadata": {},
     "output_type": "execute_result"
    }
   ],
   "source": [
    "# the greater the r2 score the more correct our prediction is\n",
    "r2_score(y_train, y_) # between 0 and 1."
   ]
  },
  {
   "cell_type": "code",
   "execution_count": null,
   "id": "69b73a88-1a36-4003-8e38-7dba026a6ca1",
   "metadata": {},
   "outputs": [],
   "source": []
  },
  {
   "cell_type": "code",
   "execution_count": null,
   "id": "e64ffa90-c2a5-4391-8561-bb362fdb7d04",
   "metadata": {},
   "outputs": [],
   "source": []
  },
  {
   "cell_type": "markdown",
   "id": "e6088b1a-a659-40e2-8226-21e218789ae4",
   "metadata": {},
   "source": [
    "### Prediction"
   ]
  },
  {
   "cell_type": "code",
   "execution_count": null,
   "id": "8fdf8417-d7cf-45bc-9613-4a364dfbcc3e",
   "metadata": {},
   "outputs": [],
   "source": [
    "x_train = np.array([30, 50, 60, 80, 100])\n",
    "y_train = np.array([70000, 100000, 120000, 150000, 200000])"
   ]
  },
  {
   "cell_type": "code",
   "execution_count": 35,
   "id": "59430170-a8b2-4fe3-80c7-bfb91a9cdc49",
   "metadata": {},
   "outputs": [
    {
     "name": "stdout",
     "output_type": "stream",
     "text": [
      "A house with size(m^2) 20 has a price of: 39598.32630429304\n",
      "A house with size(m^2) 30 has a price of: 59379.87227105263\n",
      "A house with size(m^2) 50 has a price of: 98942.9642045718\n",
      "A house with size(m^2) 60 has a price of: 118724.51017133139\n",
      "A house with size(m^2) 80 has a price of: 158287.60210485058\n",
      "A house with size(m^2) 100 has a price of: 197850.69403836975\n"
     ]
    }
   ],
   "source": [
    "size_of_house = 20\n",
    "print(f\"A house with size(m^2) {size_of_house} has a price of: {w_final * size_of_house + b_final}\")\n",
    "\n",
    "size_of_house = 30\n",
    "print(f\"A house with size(m^2) {size_of_house} has a price of: {w_final * size_of_house + b_final}\")\n",
    "\n",
    "\n",
    "size_of_house = 50\n",
    "print(f\"A house with size(m^2) {size_of_house} has a price of: {w_final * size_of_house + b_final}\")\n",
    "\n",
    "size_of_house = 60\n",
    "print(f\"A house with size(m^2) {size_of_house} has a price of: {w_final * size_of_house + b_final}\")\n",
    "\n",
    "\n",
    "size_of_house = 80\n",
    "print(f\"A house with size(m^2) {size_of_house} has a price of: {w_final * size_of_house + b_final}\")\n",
    "\n",
    "\n",
    "size_of_house = 100\n",
    "print(f\"A house with size(m^2) {size_of_house} has a price of: {w_final * size_of_house + b_final}\")\n",
    "\n"
   ]
  },
  {
   "cell_type": "code",
   "execution_count": null,
   "id": "a0c78b99-dcca-4c37-9a98-11e62a61d775",
   "metadata": {},
   "outputs": [],
   "source": []
  },
  {
   "cell_type": "code",
   "execution_count": 37,
   "id": "14141cdf-f081-469b-8a1e-3fc22f6ca952",
   "metadata": {},
   "outputs": [
    {
     "data": {
      "text/plain": [
       "[<matplotlib.lines.Line2D at 0x1ee173a0550>]"
      ]
     },
     "execution_count": 37,
     "metadata": {},
     "output_type": "execute_result"
    },
    {
     "data": {
      "image/png": "[encoded data removed]",
      "text/plain": [
       "<Figure size 640x480 with 1 Axes>"
      ]
     },
     "metadata": {},
     "output_type": "display_data"
    }
   ],
   "source": [
    "plt.scatter(x_train, y_train)\n",
    "plt.plot(x_train, w_final * x_train + b_final, c='r')"
   ]
  },
  {
   "cell_type": "code",
   "execution_count": null,
   "id": "ffb4f891-25df-4543-b12f-8f5ca1d17479",
   "metadata": {},
   "outputs": [],
   "source": []
  }
 ],
 "metadata": {
  "kernelspec": {
   "display_name": "Python 3 (ipykernel)",
   "language": "python",
   "name": "python3"
  },
  "language_info": {
   "codemirror_mode": {
    "name": "ipython",
    "version": 3
   },
   "file_extension": ".py",
   "mimetype": "text/x-python",
   "name": "python",
   "nbconvert_exporter": "python",
   "pygments_lexer": "ipython3",
   "version": "3.11.3"
  }
 },
 "nbformat": 4,
 "nbformat_minor": 5
}
