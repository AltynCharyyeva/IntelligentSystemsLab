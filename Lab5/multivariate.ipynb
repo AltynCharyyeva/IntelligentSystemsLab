{
 "cells": [
  {
   "cell_type": "code",
   "execution_count": 2,
   "id": "aaa26fb6-16c2-4335-92d6-511930bc9b01",
   "metadata": {},
   "outputs": [],
   "source": [
    "import numpy as np\n",
    "import pandas as pd\n",
    "import matplotlib.pyplot as plt\n",
    "import copy"
   ]
  },
  {
   "cell_type": "markdown",
   "id": "2ba5113c-4ab8-48db-b01b-0b18f8774994",
   "metadata": {},
   "source": [
    "### Data Processing"
   ]
  },
  {
   "cell_type": "code",
   "execution_count": 80,
   "id": "9401effc-38e4-4a87-8f6f-ab9e2f2af10a",
   "metadata": {},
   "outputs": [],
   "source": [
    "data = pd.read_csv('data.csv')\n",
    "x_data = data[['sqft_living', 'sqft_lot', 'sqft_basement']].values\n",
    "y_data = data['price'].values"
   ]
  },
  {
   "cell_type": "code",
   "execution_count": 65,
   "id": "87cdde80-03be-4937-9609-3f030c2dd43d",
   "metadata": {},
   "outputs": [
    {
     "data": {
      "text/plain": [
       "(4600, 4600)"
      ]
     },
     "execution_count": 65,
     "metadata": {},
     "output_type": "execute_result"
    }
   ],
   "source": [
    "x_data\n",
    "y_data\n",
    "len(x_data), len(y_data)"
   ]
  },
  {
   "cell_type": "code",
   "execution_count": null,
   "id": "da6bddf7-8224-4c66-853e-1ec0dca6181d",
   "metadata": {},
   "outputs": [],
   "source": []
  },
  {
   "cell_type": "code",
   "execution_count": null,
   "id": "9af41a67-8537-43a3-934f-7d2002f3ba6a",
   "metadata": {},
   "outputs": [],
   "source": []
  },
  {
   "cell_type": "code",
   "execution_count": null,
   "id": "1343e0c0-8c60-4f79-bdc0-ea4de2184267",
   "metadata": {},
   "outputs": [],
   "source": []
  },
  {
   "cell_type": "code",
   "execution_count": 66,
   "id": "82ab3e4b-4d31-4dec-8041-a98246241e8f",
   "metadata": {},
   "outputs": [
    {
     "data": {
      "image/png": "[encoded data removed]",
      "text/plain": [
       "<Figure size 640x480 with 1 Axes>"
      ]
     },
     "metadata": {},
     "output_type": "display_data"
    }
   ],
   "source": [
    "plt.scatter(x_data['sqft_basement'], y_data)\n",
    "plt.title(\"Plot for just one feature\")\n",
    "plt.xlabel(\"The area in the basement(sq.foot)\")\n",
    "plt.ylabel(\"Price\")\n",
    "plt.show()"
   ]
  },
  {
   "cell_type": "code",
   "execution_count": null,
   "id": "549fb519-d989-45fb-ba50-7c0fce4e3918",
   "metadata": {},
   "outputs": [],
   "source": []
  },
  {
   "cell_type": "markdown",
   "id": "32b30ad0-699e-4011-9f37-ee6d64b08526",
   "metadata": {},
   "source": [
    "### Train"
   ]
  },
  {
   "cell_type": "code",
   "execution_count": 23,
   "id": "6a79c8c1-614b-4437-b866-3698780102fa",
   "metadata": {},
   "outputs": [
    {
     "data": {
      "text/plain": [
       "4600"
      ]
     },
     "execution_count": 23,
     "metadata": {},
     "output_type": "execute_result"
    }
   ],
   "source": [
    "x_data.shape[0]"
   ]
  },
  {
   "cell_type": "code",
   "execution_count": 33,
   "id": "628cc629-3816-4d90-a72d-374cc65b1205",
   "metadata": {},
   "outputs": [
    {
     "data": {
      "text/plain": [
       "(4600, 10)"
      ]
     },
     "execution_count": 33,
     "metadata": {},
     "output_type": "execute_result"
    }
   ],
   "source": [
    "x_data['bathrooms'][0]\n",
    "i , j = x_data.shape\n",
    "i, j"
   ]
  },
  {
   "cell_type": "code",
   "execution_count": null,
   "id": "559a50be-4bb9-49a5-bbfb-6fabd20517cd",
   "metadata": {},
   "outputs": [],
   "source": []
  },
  {
   "cell_type": "code",
   "execution_count": 76,
   "id": "4f233865-cc60-4613-aef1-4daa6b8ac38f",
   "metadata": {},
   "outputs": [],
   "source": [
    "def normalize_features(x):\n",
    "    # Min-Max scaling to normalize features between 0 and 1\n",
    "    x_normalized = np.zeros_like(x)\n",
    "    for i in range(x.shape[1]):\n",
    "        min_val = np.min(x[:, i])\n",
    "        max_val = np.max(x[:, i])\n",
    "        x_normalized[:, i] = (x[:, i] - min_val) / (max_val - min_val)\n",
    "    return x_normalized"
   ]
  },
  {
   "cell_type": "code",
   "execution_count": null,
   "id": "9e51aaa6-8de3-435f-81bf-d30ddf9e44df",
   "metadata": {},
   "outputs": [],
   "source": []
  },
  {
   "cell_type": "code",
   "execution_count": 67,
   "id": "5ccf222c-ce30-4f98-8536-02eae9b394f7",
   "metadata": {},
   "outputs": [],
   "source": [
    "def compute_cost(x, y, w, b):\n",
    "    # n = number of features\n",
    "    # m = number of examples\n",
    "    # w = array of slopes gor each feature\n",
    "    # h_all_features = hypothesis calculated with all features\n",
    "    \n",
    "    m, n = x.shape\n",
    "    cost = 0\n",
    "\n",
    "    for i in range(m):\n",
    "        h_all_features = 0\n",
    "        for j in range(n):\n",
    "            h_all_features += w[j] * x[i][j]\n",
    "        h_all_features += b\n",
    "        cost += ((h_all_features - y[i])**2)  \n",
    "    \n",
    "    total_cost = (cost / (2 * m))\n",
    "    return total_cost\n"
   ]
  },
  {
   "cell_type": "code",
   "execution_count": null,
   "id": "a5cea6c3-7765-4c89-9aef-f52e62a82449",
   "metadata": {},
   "outputs": [],
   "source": []
  },
  {
   "cell_type": "code",
   "execution_count": 78,
   "id": "66ba802c-5f44-4cf3-8be8-51614ef8c24d",
   "metadata": {},
   "outputs": [],
   "source": [
    "def compute_gradients(x, y, w, b):\n",
    "    m, n = x.shape\n",
    "    \n",
    "    grads = np.zeros((n, ))\n",
    "    for j in range(0, n):\n",
    "        for i in range(0, m):\n",
    "            y_ = 0\n",
    "            for k in range(0, n):\n",
    "                y_ += w[k] * x[i][k]\n",
    "            y_ += b\n",
    "            grads[j] += (y_ - y[i]) * x[i][j]\n",
    "        grads[j] /= m\n",
    "    return grads"
   ]
  },
  {
   "cell_type": "code",
   "execution_count": null,
   "id": "a6b823fa-42a9-4de6-8424-3c5a3d9cf5fb",
   "metadata": {},
   "outputs": [],
   "source": [
    "\n"
   ]
  },
  {
   "cell_type": "code",
   "execution_count": 79,
   "id": "22e79f78-f7db-427b-ba5a-cbd3592c4f69",
   "metadata": {},
   "outputs": [],
   "source": [
    "def gradient_descent(x, y, w_in, alpha, num_iterations, cost_function, gradient_function):\n",
    "\n",
    "    w = copy.deepcopy(w_in)\n",
    "    b = 0 # theta[0] = intercept\n",
    "    # b = copy.deepcopy(b_in)\n",
    "    m, n = x.shape\n",
    "\n",
    "    # cost function evolution - loss\n",
    "    j_history = []\n",
    "\n",
    "    for i in range(0, num_iterations):\n",
    "        grads = gradient_function(x, y, w, b)\n",
    "        for j in range(0, n):\n",
    "            w[j] = w[j] - alpha * grads[j]\n",
    "        b -= alpha * grads[-1]\n",
    "\n",
    "        j_history.append(cost_function(x, y, w, b))\n",
    "\n",
    "        #print(f\"Iteraton: {i} | Cost: {j_history[i]:.4} | dj_dw: {dj_dw:.4}, | dj_db: {dj_db:.4} | w: {w:.4} | b: {b:.4}\")\n",
    "\n",
    "    return w, j_history"
   ]
  },
  {
   "cell_type": "code",
   "execution_count": null,
   "id": "b5dcaf68-7971-4241-a089-0426cf61af4d",
   "metadata": {},
   "outputs": [],
   "source": []
  },
  {
   "cell_type": "code",
   "execution_count": 99,
   "id": "3f1de851-5149-4ab7-b46c-e473c30ee2c8",
   "metadata": {},
   "outputs": [],
   "source": [
    "m, n = x_data.shape\n",
    "x = normalize_features(x_data)\n",
    "w_in = np.zeros((n, ))\n",
    "num_iterations = 100\n",
    "alpha = 1.0e-10\n",
    "w, j_history = gradient_descent(x, y_data, w_in, alpha, num_iterations, cost_function=compute_cost, gradient_function=compute_gradients)"
   ]
  },
  {
   "cell_type": "code",
   "execution_count": null,
   "id": "9807c3ad-bdd4-43a2-aa07-855dd10f67f0",
   "metadata": {},
   "outputs": [],
   "source": []
  },
  {
   "cell_type": "code",
   "execution_count": 100,
   "id": "335b9a1c-6954-4dc5-888e-de0ad951232f",
   "metadata": {},
   "outputs": [
    {
     "data": {
      "image/png": "[encoded data removed]",
      "text/plain": [
       "<Figure size 640x480 with 1 Axes>"
      ]
     },
     "metadata": {},
     "output_type": "display_data"
    }
   ],
   "source": [
    "plt.plot(j_history)\n",
    "plt.title(\"Loss evolution (Cost function per iteration)\")\n",
    "plt.xlabel(\"Iteration number\")\n",
    "plt.ylabel(\"Cost function\")\n",
    "plt.show()"
   ]
  },
  {
   "cell_type": "code",
   "execution_count": null,
   "id": "d6cca6e6-6d54-408f-8e95-5684cae1e672",
   "metadata": {},
   "outputs": [],
   "source": []
  },
  {
   "cell_type": "code",
   "execution_count": null,
   "id": "08dc4a6b-568f-41be-9645-62b6af48eae8",
   "metadata": {},
   "outputs": [],
   "source": []
  },
  {
   "cell_type": "code",
   "execution_count": null,
   "id": "b42692ff-c2a4-4322-b128-6e6c9658ff86",
   "metadata": {},
   "outputs": [],
   "source": []
  },
  {
   "cell_type": "code",
   "execution_count": null,
   "id": "8fd0f6fd-83df-484d-b9c9-237edcd2d2e5",
   "metadata": {},
   "outputs": [],
   "source": []
  }
 ],
 "metadata": {
  "kernelspec": {
   "display_name": "Python 3 (ipykernel)",
   "language": "python",
   "name": "python3"
  },
  "language_info": {
   "codemirror_mode": {
    "name": "ipython",
    "version": 3
   },
   "file_extension": ".py",
   "mimetype": "text/x-python",
   "name": "python",
   "nbconvert_exporter": "python",
   "pygments_lexer": "ipython3",
   "version": "3.11.3"
  }
 },
 "nbformat": 4,
 "nbformat_minor": 5
}
