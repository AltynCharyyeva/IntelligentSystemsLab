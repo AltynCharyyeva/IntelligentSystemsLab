{
 "cells": [
  {
   "cell_type": "code",
   "execution_count": 29,
   "id": "85a85a1a-55b0-436d-b621-2697346e5962",
   "metadata": {},
   "outputs": [],
   "source": [
    "import numpy as np\n",
    "import pandas as pd\n",
    "import matplotlib.pyplot as plt\n",
    "import copy"
   ]
  },
  {
   "cell_type": "markdown",
   "id": "9ba6cfdf-aabf-49e3-8a6c-621533acae79",
   "metadata": {},
   "source": [
    "### Data Preprocessing"
   ]
  },
  {
   "cell_type": "code",
   "execution_count": 30,
   "id": "1441cf72-0ae1-49b0-8aab-9a5e912d3369",
   "metadata": {},
   "outputs": [],
   "source": [
    "data = pd.read_csv('data.csv')\n"
   ]
  },
  {
   "cell_type": "code",
   "execution_count": null,
   "id": "19056b12-8c31-4aa0-b4eb-8309d7e4c493",
   "metadata": {},
   "outputs": [],
   "source": []
  },
  {
   "cell_type": "code",
   "execution_count": 31,
   "id": "41c723e9-77d2-47b3-bbc2-08bf2563a492",
   "metadata": {},
   "outputs": [],
   "source": [
    "x_data = data['sqft_living']\n",
    "y_data = data['price']"
   ]
  },
  {
   "cell_type": "code",
   "execution_count": 32,
   "id": "f8f638aa-5612-498a-89ce-e9381bdd016a",
   "metadata": {},
   "outputs": [
    {
     "data": {
      "text/plain": [
       "(4600, 4600)"
      ]
     },
     "execution_count": 32,
     "metadata": {},
     "output_type": "execute_result"
    }
   ],
   "source": [
    "x_data\n",
    "y_data\n",
    "len(x_data), len(y_data)"
   ]
  },
  {
   "cell_type": "code",
   "execution_count": null,
   "id": "77ba4dd5-8299-4f87-bcf7-94a4f8f32d64",
   "metadata": {},
   "outputs": [],
   "source": [
    "# 80% train, 20% validation : random selection"
   ]
  },
  {
   "cell_type": "code",
   "execution_count": 64,
   "id": "5002dbc5-3716-4a98-a6c1-0fabc0fdd7f5",
   "metadata": {},
   "outputs": [],
   "source": [
    "def train_validation_split(x, y, validation_size=0.2, random_state=None):\n",
    "    x_validation = x.sample(frac=validation_size, random_state=random_state)\n",
    "    y_validation = y[x_validation.index]\n",
    "    \n",
    "    x_train = x.drop(x_validation.index)\n",
    "    y_train = y.drop(y_validation.index)\n",
    "\n",
    "    return np.array(x_train), np.array(y_train), np.array(x_validation), np.array(y_validation)"
   ]
  },
  {
   "cell_type": "code",
   "execution_count": null,
   "id": "e625ce1e-4655-45fd-901c-6bba2e5d2d6c",
   "metadata": {},
   "outputs": [],
   "source": []
  },
  {
   "cell_type": "code",
   "execution_count": 65,
   "id": "136a003c-6e12-4338-999a-5fafb0bc5ffd",
   "metadata": {},
   "outputs": [],
   "source": [
    "x_train, y_train, x_validation, y_validation = train_validation_split(x_data, y_data, validation_size=0.2, random_state=10)"
   ]
  },
  {
   "cell_type": "code",
   "execution_count": null,
   "id": "b905f4aa-30c0-4c21-8663-4024ff98fa14",
   "metadata": {},
   "outputs": [],
   "source": []
  },
  {
   "cell_type": "code",
   "execution_count": 61,
   "id": "e7c9788f-cb23-441a-a80d-70b9c5706e52",
   "metadata": {},
   "outputs": [
    {
     "data": {
      "text/plain": [
       "Index([3623, 3698, 2656, 2154, 2384, 1001, 1322,  429, 2528, 1279,\n",
       "       ...\n",
       "       3719,  809, 1964,  935, 2626, 3695, 4404, 4328, 1092, 1005],\n",
       "      dtype='int64', length=920)"
      ]
     },
     "execution_count": 61,
     "metadata": {},
     "output_type": "execute_result"
    }
   ],
   "source": [
    "x_data.sample(frac=0.2, random_state=15).index"
   ]
  },
  {
   "cell_type": "code",
   "execution_count": 62,
   "id": "e3a088f0-8cac-46cb-b1b8-11a5566a695b",
   "metadata": {},
   "outputs": [
    {
     "data": {
      "text/plain": [
       "3623     325000.000\n",
       "3698     345000.000\n",
       "2656     616000.000\n",
       "2154     546000.000\n",
       "2384     575000.000\n",
       "           ...     \n",
       "3695    1510000.000\n",
       "4404     268971.875\n",
       "4328     580000.000\n",
       "1092     589000.000\n",
       "1005     765000.000\n",
       "Name: price, Length: 920, dtype: float64"
      ]
     },
     "execution_count": 62,
     "metadata": {},
     "output_type": "execute_result"
    }
   ],
   "source": [
    "y_data[x_data.sample(frac=0.2, random_state=15).index]"
   ]
  },
  {
   "cell_type": "code",
   "execution_count": null,
   "id": "ebc96cac-ee6a-4e7f-b95b-2ed46205016c",
   "metadata": {},
   "outputs": [],
   "source": []
  },
  {
   "cell_type": "code",
   "execution_count": 66,
   "id": "f7285888-1c23-4912-86a2-aeb899220edd",
   "metadata": {},
   "outputs": [
    {
     "data": {
      "text/plain": [
       "(920, 920)"
      ]
     },
     "execution_count": 66,
     "metadata": {},
     "output_type": "execute_result"
    }
   ],
   "source": [
    "len(x_validation), len(y_validation)"
   ]
  },
  {
   "cell_type": "code",
   "execution_count": null,
   "id": "06218ead-45ca-4d53-ad0a-fef448decc03",
   "metadata": {},
   "outputs": [],
   "source": []
  },
  {
   "cell_type": "code",
   "execution_count": null,
   "id": "dddd01da-930b-4636-94da-8c3ef3cca46d",
   "metadata": {},
   "outputs": [],
   "source": []
  },
  {
   "cell_type": "code",
   "execution_count": null,
   "id": "2cbf11d2-6ad5-42a5-b496-e1a4b012ff98",
   "metadata": {},
   "outputs": [],
   "source": []
  },
  {
   "cell_type": "code",
   "execution_count": 33,
   "id": "752f0214-1325-4322-9a08-372ea83587d5",
   "metadata": {},
   "outputs": [
    {
     "data": {
      "image/png": "[encoded data removed]",
      "text/plain": [
       "<Figure size 640x480 with 1 Axes>"
      ]
     },
     "metadata": {},
     "output_type": "display_data"
    }
   ],
   "source": [
    "plt.scatter(x_data, y_data)\n",
    "plt.title(\"Train Data: House\")\n",
    "plt.xlabel(\"Size of house in sq.m:\")\n",
    "plt.ylabel(\"House price\")\n",
    "plt.show()"
   ]
  },
  {
   "cell_type": "code",
   "execution_count": null,
   "id": "9ab9554f-8a68-4787-a1a5-c8724bdd0450",
   "metadata": {},
   "outputs": [],
   "source": []
  },
  {
   "cell_type": "code",
   "execution_count": null,
   "id": "3a36b6a6-46b6-4239-9b19-070739b8075a",
   "metadata": {},
   "outputs": [],
   "source": []
  },
  {
   "cell_type": "code",
   "execution_count": null,
   "id": "5847a7bf-146e-4b62-bea2-c5da2a90fe03",
   "metadata": {},
   "outputs": [],
   "source": []
  },
  {
   "cell_type": "markdown",
   "id": "a09c45bc-9218-42a7-94fd-ada0b0ece511",
   "metadata": {},
   "source": [
    "### Training"
   ]
  },
  {
   "cell_type": "code",
   "execution_count": 34,
   "id": "a4ce7eba-daeb-4f3d-8514-affc379a393d",
   "metadata": {},
   "outputs": [],
   "source": [
    "def compute_cost(x, y, w, b):\n",
    "    m = x.shape[0]\n",
    "    cost = 0\n",
    "\n",
    "    for i in range(0, m):\n",
    "        f_wb = w * x[i] + b\n",
    "        cost += (f_wb - y[i])**2\n",
    "\n",
    "    total_cost = cost / (2 * m)\n",
    "    return total_cost"
   ]
  },
  {
   "cell_type": "code",
   "execution_count": 27,
   "id": "68cdab6c-fb75-4351-a03a-30b12b31cf62",
   "metadata": {},
   "outputs": [],
   "source": [
    "#compute_cost(x_train, y_train, w=1.5, b=0)"
   ]
  },
  {
   "cell_type": "code",
   "execution_count": 35,
   "id": "e49cf7c1-283c-4c77-977e-987c3d5e8be6",
   "metadata": {},
   "outputs": [],
   "source": [
    "def compute_gradients(x, y, w, b):\n",
    "    m = x.shape[0]\n",
    "    dj_dw = 0\n",
    "    dj_db = 0\n",
    "\n",
    "    for i in range(0, m):\n",
    "        f_wb = w * x[i] + b\n",
    "        dj_dw += (f_wb - y[i]) * x[i]\n",
    "        dj_db += (f_wb - y[i])\n",
    "\n",
    "    dj_dw = dj_dw / m\n",
    "    dj_db = dj_db / m\n",
    "\n",
    "    return dj_dw, dj_db"
   ]
  },
  {
   "cell_type": "code",
   "execution_count": 28,
   "id": "8696de65-5e93-40a9-ba8c-b2cad5ebd815",
   "metadata": {},
   "outputs": [],
   "source": [
    "#compute_gradients(x_train, y_train, w=10, b=10)"
   ]
  },
  {
   "cell_type": "code",
   "execution_count": 36,
   "id": "2472c0f0-9590-4f54-8087-a5c9423b5da5",
   "metadata": {},
   "outputs": [],
   "source": [
    "def gradient_descent(x, y, w_in, b_in, alpha, num_iterations, cost_function, gradient_function):\n",
    "\n",
    "    w = copy.deepcopy(w_in)\n",
    "    b = copy.deepcopy(b_in)\n",
    "\n",
    "    # cost function evolution - loss\n",
    "    j_history = []\n",
    "\n",
    "    for i in range(0, num_iterations):\n",
    "        dj_dw, dj_db = gradient_function(x, y, w, b)\n",
    "\n",
    "        w = w - alpha * dj_dw\n",
    "        b = b - alpha * dj_db\n",
    "\n",
    "        j_history.append(cost_function(x, y, w, b))\n",
    "\n",
    "        print(f\"Iteraton: {i} | Cost: {j_history[i]:.4} | dj_dw: {dj_dw:.4}, | dj_db: {dj_db:.4} | w: {w:.4} | b: {b:.4}\")\n",
    "\n",
    "    return w, b, j_history\n",
    "\n",
    "    \n",
    "    \n",
    "    "
   ]
  },
  {
   "cell_type": "code",
   "execution_count": 72,
   "id": "c16d0a3c-d9ad-4fc8-a6eb-e2e60d9dc17e",
   "metadata": {},
   "outputs": [
    {
     "name": "stdout",
     "output_type": "stream",
     "text": [
      "Iteraton: 0 | Cost: 1.662e+11 | dj_dw: -1.415e+09, | dj_db: -5.52e+05 | w: 141.5 | b: 0.0552\n",
      "Iteraton: 1 | Cost: 1.369e+11 | dj_dw: -6.359e+08, | dj_db: -2.493e+05 | w: 205.0 | b: 0.08013\n",
      "Iteraton: 2 | Cost: 1.31e+11 | dj_dw: -2.859e+08, | dj_db: -1.133e+05 | w: 233.6 | b: 0.09146\n",
      "Iteraton: 3 | Cost: 1.298e+11 | dj_dw: -1.285e+08, | dj_db: -5.214e+04 | w: 246.5 | b: 0.09667\n",
      "Iteraton: 4 | Cost: 1.296e+11 | dj_dw: -5.778e+07, | dj_db: -2.464e+04 | w: 252.3 | b: 0.09914\n",
      "Iteraton: 5 | Cost: 1.295e+11 | dj_dw: -2.598e+07, | dj_db: -1.228e+04 | w: 254.9 | b: 0.1004\n",
      "Iteraton: 6 | Cost: 1.295e+11 | dj_dw: -1.168e+07, | dj_db: -6.722e+03 | w: 256.0 | b: 0.101\n",
      "Iteraton: 7 | Cost: 1.295e+11 | dj_dw: -5.25e+06, | dj_db: -4.223e+03 | w: 256.6 | b: 0.1015\n",
      "Iteraton: 8 | Cost: 1.295e+11 | dj_dw: -2.36e+06, | dj_db: -3.1e+03 | w: 256.8 | b: 0.1018\n",
      "Iteraton: 9 | Cost: 1.295e+11 | dj_dw: -1.061e+06, | dj_db: -2.595e+03 | w: 256.9 | b: 0.102\n",
      "Iteraton: 10 | Cost: 1.295e+11 | dj_dw: -4.77e+05, | dj_db: -2.368e+03 | w: 256.9 | b: 0.1023\n",
      "Iteraton: 11 | Cost: 1.295e+11 | dj_dw: -2.144e+05, | dj_db: -2.266e+03 | w: 257.0 | b: 0.1025\n",
      "Iteraton: 12 | Cost: 1.295e+11 | dj_dw: -9.64e+04, | dj_db: -2.22e+03 | w: 257.0 | b: 0.1027\n",
      "Iteraton: 13 | Cost: 1.295e+11 | dj_dw: -4.334e+04, | dj_db: -2.2e+03 | w: 257.0 | b: 0.1029\n",
      "Iteraton: 14 | Cost: 1.295e+11 | dj_dw: -1.948e+04, | dj_db: -2.191e+03 | w: 257.0 | b: 0.1032\n",
      "Iteraton: 15 | Cost: 1.295e+11 | dj_dw: -8.758e+03, | dj_db: -2.186e+03 | w: 257.0 | b: 0.1034\n",
      "Iteraton: 16 | Cost: 1.295e+11 | dj_dw: -3.937e+03, | dj_db: -2.184e+03 | w: 257.0 | b: 0.1036\n",
      "Iteraton: 17 | Cost: 1.295e+11 | dj_dw: -1.769e+03, | dj_db: -2.184e+03 | w: 257.0 | b: 0.1038\n",
      "Iteraton: 18 | Cost: 1.295e+11 | dj_dw: -795.0, | dj_db: -2.183e+03 | w: 257.0 | b: 0.104\n",
      "Iteraton: 19 | Cost: 1.295e+11 | dj_dw: -356.9, | dj_db: -2.183e+03 | w: 257.0 | b: 0.1042\n",
      "(w, b) found by gradient descent 257.0 0.1042\n"
     ]
    }
   ],
   "source": [
    "w_init = 0\n",
    "b_init = 0\n",
    "\n",
    "iterations = 20\n",
    "alpha = 1.0e-7\n",
    "\n",
    "w_final, b_final, j_history = gradient_descent(x=x_data, y=y_data, w_in=w_init, b_in=b_init, alpha=alpha, num_iterations=iterations, cost_function=compute_cost, gradient_function=compute_gradients)\n",
    "print(f\"(w, b) found by gradient descent {w_final:.4} {b_final:.4}\")"
   ]
  },
  {
   "cell_type": "code",
   "execution_count": 73,
   "id": "c918f153-5d82-473a-927e-72281ac082eb",
   "metadata": {},
   "outputs": [
    {
     "data": {
      "text/plain": [
       "[166228432604.24982,\n",
       " 136918237992.3409,\n",
       " 130994451234.87022,\n",
       " 129797214231.7894,\n",
       " 129555244609.6496,\n",
       " 129506340927.04451,\n",
       " 129496457164.67563,\n",
       " 129494459589.68318,\n",
       " 129494055866.01009,\n",
       " 129493974270.3697,\n",
       " 129493957778.96378,\n",
       " 129493954445.56009,\n",
       " 129493953771.47665,\n",
       " 129493953634.8598,\n",
       " 129493953606.86804,\n",
       " 129493953600.8309,\n",
       " 129493953599.23027,\n",
       " 129493953598.52669,\n",
       " 129493953598.00407,\n",
       " 129493953597.51823]"
      ]
     },
     "execution_count": 73,
     "metadata": {},
     "output_type": "execute_result"
    }
   ],
   "source": [
    "j_history"
   ]
  },
  {
   "cell_type": "code",
   "execution_count": null,
   "id": "178d5025-2d27-4c9b-84f8-0d5c2d716638",
   "metadata": {},
   "outputs": [],
   "source": []
  },
  {
   "cell_type": "code",
   "execution_count": null,
   "id": "1af5506a-8063-4354-be06-a9d7ff6a04c7",
   "metadata": {},
   "outputs": [],
   "source": []
  },
  {
   "cell_type": "code",
   "execution_count": null,
   "id": "2aadc8b7-474b-4854-ac66-d9875596cf91",
   "metadata": {},
   "outputs": [],
   "source": []
  },
  {
   "cell_type": "code",
   "execution_count": null,
   "id": "b87623e1-91dd-4ab7-b73d-81767f916dd3",
   "metadata": {},
   "outputs": [],
   "source": []
  },
  {
   "cell_type": "code",
   "execution_count": null,
   "id": "5bf464b3-27f7-4731-9021-2a49405f0e2b",
   "metadata": {},
   "outputs": [],
   "source": []
  },
  {
   "cell_type": "markdown",
   "id": "2d9a18dd-4507-4945-99b9-efafbf7f56c9",
   "metadata": {},
   "source": [
    "### Metrics"
   ]
  },
  {
   "cell_type": "code",
   "execution_count": null,
   "id": "7bec90b6-8266-4259-966d-8923f7bf7329",
   "metadata": {},
   "outputs": [],
   "source": []
  },
  {
   "cell_type": "code",
   "execution_count": 74,
   "id": "ec6ce8a5-8dd8-45f0-bc2c-8bda2a31376e",
   "metadata": {},
   "outputs": [
    {
     "data": {
      "image/png": "[encoded data removed]",
      "text/plain": [
       "<Figure size 640x480 with 1 Axes>"
      ]
     },
     "metadata": {},
     "output_type": "display_data"
    }
   ],
   "source": [
    "plt.plot(j_history)\n",
    "plt.title(\"Loss evolution (Cost function per iteration)\")\n",
    "plt.xlabel(\"Iteration number\")\n",
    "plt.ylabel(\"Cost function\")\n",
    "plt.show()"
   ]
  },
  {
   "cell_type": "code",
   "execution_count": null,
   "id": "4da51969-c647-4d4b-85e2-76a3b030b610",
   "metadata": {},
   "outputs": [],
   "source": []
  },
  {
   "cell_type": "code",
   "execution_count": null,
   "id": "248ce937-2b0d-461b-953d-419f30cae9e3",
   "metadata": {},
   "outputs": [],
   "source": []
  },
  {
   "cell_type": "code",
   "execution_count": 75,
   "id": "df3ab5b5-4639-4692-bb2b-a6b1609f9b53",
   "metadata": {},
   "outputs": [],
   "source": [
    "def r2_score(y, y_):\n",
    "    num = np.sum((y - y_)**2)\n",
    "    denum = np.sum((y - y.mean())**2)\n",
    "\n",
    "    score = 1 - num / denum\n",
    "    return score"
   ]
  },
  {
   "cell_type": "code",
   "execution_count": 78,
   "id": "b96d5475-d7eb-4cde-bf3a-abcfb10eeb4c",
   "metadata": {},
   "outputs": [],
   "source": [
    "y_predicted_train = [w_final * i + b_final for i in x_data]"
   ]
  },
  {
   "cell_type": "code",
   "execution_count": 79,
   "id": "531bbd36-a9c8-4b22-9585-b71f9d5a3bc5",
   "metadata": {},
   "outputs": [
    {
     "data": {
      "text/plain": [
       "0.18516381972280105"
      ]
     },
     "execution_count": 79,
     "metadata": {},
     "output_type": "execute_result"
    }
   ],
   "source": [
    "# the greater the r2 score the more correct our prediction is\n",
    "r2_score(y_data, y_predicted_train) # between 0 and 1."
   ]
  },
  {
   "cell_type": "code",
   "execution_count": 83,
   "id": "69b73a88-1a36-4003-8e38-7dba026a6ca1",
   "metadata": {},
   "outputs": [],
   "source": [
    "y_predicted_validation = [w_final * i + b_final for i in x_validation]"
   ]
  },
  {
   "cell_type": "code",
   "execution_count": 84,
   "id": "e64ffa90-c2a5-4391-8561-bb362fdb7d04",
   "metadata": {},
   "outputs": [
    {
     "data": {
      "text/plain": [
       "0.3799913230293931"
      ]
     },
     "execution_count": 84,
     "metadata": {},
     "output_type": "execute_result"
    }
   ],
   "source": [
    "r2_score(y_validation, y_predicted_validation)"
   ]
  },
  {
   "cell_type": "code",
   "execution_count": null,
   "id": "56be8b58-297a-47e4-bcfc-59f82deee826",
   "metadata": {},
   "outputs": [],
   "source": []
  },
  {
   "cell_type": "code",
   "execution_count": 85,
   "id": "3e9f4cf1-6cc4-4f1e-b8f7-88c4703b1f6e",
   "metadata": {},
   "outputs": [
    {
     "data": {
      "text/plain": [
       "<matplotlib.collections.PathCollection at 0x16d5798e3d0>"
      ]
     },
     "execution_count": 85,
     "metadata": {},
     "output_type": "execute_result"
    },
    {
     "data": {
      "image/png": "[encoded data removed]",
      "text/plain": [
       "<Figure size 640x480 with 1 Axes>"
      ]
     },
     "metadata": {},
     "output_type": "display_data"
    }
   ],
   "source": [
    "plt.scatter(x_validation, y_validation)"
   ]
  },
  {
   "cell_type": "code",
   "execution_count": null,
   "id": "bd91ea1a-a15b-44c5-8432-e2989194afe2",
   "metadata": {},
   "outputs": [],
   "source": []
  },
  {
   "cell_type": "markdown",
   "id": "e6088b1a-a659-40e2-8226-21e218789ae4",
   "metadata": {},
   "source": [
    "### Prediction"
   ]
  },
  {
   "cell_type": "code",
   "execution_count": null,
   "id": "8fdf8417-d7cf-45bc-9613-4a364dfbcc3e",
   "metadata": {},
   "outputs": [],
   "source": [
    "x_train = np.array([30, 50, 60, 80, 100])\n",
    "y_train = np.array([70000, 100000, 120000, 150000, 200000])"
   ]
  },
  {
   "cell_type": "code",
   "execution_count": 89,
   "id": "59430170-a8b2-4fe3-80c7-bfb91a9cdc49",
   "metadata": {},
   "outputs": [
    {
     "name": "stdout",
     "output_type": "stream",
     "text": [
      "A house with size(m^2) 20 has a price of: 5139.802241037049\n",
      "A house with size(m^2) 30 has a price of: 7709.651238298571\n",
      "A house with size(m^2) 50 has a price of: 12849.349232821616\n",
      "A house with size(m^2) 60 has a price of: 15419.198230083139\n",
      "A house with size(m^2) 80 has a price of: 20558.896224606186\n",
      "A house with size(m^2) 4000 has a price of: 1027939.7031511231\n"
     ]
    }
   ],
   "source": [
    "size_of_house = 20\n",
    "print(f\"A house with size(m^2) {size_of_house} has a price of: {w_final * size_of_house + b_final}\")\n",
    "\n",
    "size_of_house = 30\n",
    "print(f\"A house with size(m^2) {size_of_house} has a price of: {w_final * size_of_house + b_final}\")\n",
    "\n",
    "\n",
    "size_of_house = 50\n",
    "print(f\"A house with size(m^2) {size_of_house} has a price of: {w_final * size_of_house + b_final}\")\n",
    "\n",
    "size_of_house = 60\n",
    "print(f\"A house with size(m^2) {size_of_house} has a price of: {w_final * size_of_house + b_final}\")\n",
    "\n",
    "\n",
    "size_of_house = 80\n",
    "print(f\"A house with size(m^2) {size_of_house} has a price of: {w_final * size_of_house + b_final}\")\n",
    "\n",
    "\n",
    "size_of_house = 4000\n",
    "print(f\"A house with size(m^2) {size_of_house} has a price of: {w_final * size_of_house + b_final}\")\n",
    "\n"
   ]
  },
  {
   "cell_type": "code",
   "execution_count": null,
   "id": "a0c78b99-dcca-4c37-9a98-11e62a61d775",
   "metadata": {},
   "outputs": [],
   "source": []
  },
  {
   "cell_type": "code",
   "execution_count": 86,
   "id": "14141cdf-f081-469b-8a1e-3fc22f6ca952",
   "metadata": {},
   "outputs": [
    {
     "data": {
      "text/plain": [
       "[<matplotlib.lines.Line2D at 0x16d57721750>]"
      ]
     },
     "execution_count": 86,
     "metadata": {},
     "output_type": "execute_result"
    },
    {
     "data": {
      "image/png": "[encoded data removed]",
      "text/plain": [
       "<Figure size 640x480 with 1 Axes>"
      ]
     },
     "metadata": {},
     "output_type": "display_data"
    }
   ],
   "source": [
    "plt.scatter(x_train, y_train)\n",
    "plt.plot(x_train, w_final * x_train + b_final, c='r')"
   ]
  },
  {
   "cell_type": "code",
   "execution_count": null,
   "id": "ffb4f891-25df-4543-b12f-8f5ca1d17479",
   "metadata": {},
   "outputs": [],
   "source": []
  },
  {
   "cell_type": "code",
   "execution_count": null,
   "id": "1b8edcca-60bb-4763-b04c-d19e02061ec3",
   "metadata": {},
   "outputs": [],
   "source": []
  },
  {
   "cell_type": "code",
   "execution_count": 87,
   "id": "07dc6169-794b-4064-8aa0-e25fe50c89a3",
   "metadata": {},
   "outputs": [
    {
     "data": {
      "text/plain": [
       "[<matplotlib.lines.Line2D at 0x16d57a91690>]"
      ]
     },
     "execution_count": 87,
     "metadata": {},
     "output_type": "execute_result"
    },
    {
     "data": {
      "image/png": "[encoded data removed]",
      "text/plain": [
       "<Figure size 640x480 with 1 Axes>"
      ]
     },
     "metadata": {},
     "output_type": "display_data"
    }
   ],
   "source": [
    "plt.scatter(x_validation, y_validation)\n",
    "plt.plot(x_train, w_final * x_train + b_final, c='r')"
   ]
  },
  {
   "cell_type": "code",
   "execution_count": null,
   "id": "eac087ed-b9c8-489c-93a8-10de29619e10",
   "metadata": {},
   "outputs": [],
   "source": []
  }
 ],
 "metadata": {
  "kernelspec": {
   "display_name": "Python 3 (ipykernel)",
   "language": "python",
   "name": "python3"
  },
  "language_info": {
   "codemirror_mode": {
    "name": "ipython",
    "version": 3
   },
   "file_extension": ".py",
   "mimetype": "text/x-python",
   "name": "python",
   "nbconvert_exporter": "python",
   "pygments_lexer": "ipython3",
   "version": "3.11.3"
  }
 },
 "nbformat": 4,
 "nbformat_minor": 5
}
