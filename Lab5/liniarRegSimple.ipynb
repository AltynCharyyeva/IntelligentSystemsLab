{
 "cells": [
  {
   "cell_type": "code",
   "execution_count": 48,
   "id": "85a85a1a-55b0-436d-b621-2697346e5962",
   "metadata": {},
   "outputs": [],
   "source": [
    "import numpy as np\n",
    "import pandas as pd\n",
    "import matplotlib.pyplot as plt\n",
    "import copy"
   ]
  },
  {
   "cell_type": "markdown",
   "id": "9ba6cfdf-aabf-49e3-8a6c-621533acae79",
   "metadata": {},
   "source": [
    "### Data Preprocessing"
   ]
  },
  {
   "cell_type": "code",
   "execution_count": 49,
   "id": "1441cf72-0ae1-49b0-8aab-9a5e912d3369",
   "metadata": {},
   "outputs": [],
   "source": [
    "x_train = np.array([30, 50, 60, 80, 100])\n",
    "y_train = np.array([70000, 100000, 120000, 150000, 200000])\n"
   ]
  },
  {
   "cell_type": "code",
   "execution_count": 52,
   "id": "19056b12-8c31-4aa0-b4eb-8309d7e4c493",
   "metadata": {},
   "outputs": [
    {
     "name": "stdout",
     "output_type": "stream",
     "text": [
      "30 70000\n",
      "50 100000\n",
      "60 120000\n",
      "80 150000\n",
      "100 200000\n"
     ]
    }
   ],
   "source": [
    "for i, j in zip(x_train, y_train):\n",
    "    print(i, j)"
   ]
  },
  {
   "cell_type": "code",
   "execution_count": 53,
   "id": "41c723e9-77d2-47b3-bbc2-08bf2563a492",
   "metadata": {},
   "outputs": [
    {
     "data": {
      "text/plain": [
       "5"
      ]
     },
     "execution_count": 53,
     "metadata": {},
     "output_type": "execute_result"
    }
   ],
   "source": [
    "x_train.mean()\n",
    "x_train.std()\n",
    "len(x_train)"
   ]
  },
  {
   "cell_type": "code",
   "execution_count": 54,
   "id": "752f0214-1325-4322-9a08-372ea83587d5",
   "metadata": {},
   "outputs": [
    {
     "data": {
      "image/png": "[encoded data removed]",
      "text/plain": [
       "<Figure size 640x480 with 1 Axes>"
      ]
     },
     "metadata": {},
     "output_type": "display_data"
    }
   ],
   "source": [
    "plt.scatter(x_train, y_train)\n",
    "plt.title(\"Train Data: House\")\n",
    "plt.xlabel(\"Size of house in sq.m:\")\n",
    "plt.ylabel(\"House price\")\n",
    "plt.show()"
   ]
  },
  {
   "cell_type": "code",
   "execution_count": 23,
   "id": "9ab9554f-8a68-4787-a1a5-c8724bdd0450",
   "metadata": {},
   "outputs": [
    {
     "data": {
      "text/plain": [
       "(5,)"
      ]
     },
     "execution_count": 23,
     "metadata": {},
     "output_type": "execute_result"
    }
   ],
   "source": [
    "x_train.shape"
   ]
  },
  {
   "cell_type": "code",
   "execution_count": null,
   "id": "3a36b6a6-46b6-4239-9b19-070739b8075a",
   "metadata": {},
   "outputs": [],
   "source": []
  },
  {
   "cell_type": "code",
   "execution_count": null,
   "id": "5847a7bf-146e-4b62-bea2-c5da2a90fe03",
   "metadata": {},
   "outputs": [],
   "source": []
  },
  {
   "cell_type": "markdown",
   "id": "a09c45bc-9218-42a7-94fd-ada0b0ece511",
   "metadata": {},
   "source": [
    "### Training"
   ]
  },
  {
   "cell_type": "code",
   "execution_count": 55,
   "id": "a4ce7eba-daeb-4f3d-8514-affc379a393d",
   "metadata": {},
   "outputs": [],
   "source": [
    "def compute_cost(x, y, w, b):\n",
    "    m = x.shape[0]\n",
    "    cost = 0\n",
    "\n",
    "    for i in range(0, m):\n",
    "        f_wb = w * x[i] + b\n",
    "        cost += (f_wb - y[i])**2\n",
    "\n",
    "    total_cost = cost / (2 * m)\n",
    "    return total_cost"
   ]
  },
  {
   "cell_type": "code",
   "execution_count": 56,
   "id": "68cdab6c-fb75-4351-a03a-30b12b31cf62",
   "metadata": {},
   "outputs": [
    {
     "data": {
      "text/plain": [
       "9166115265.0"
      ]
     },
     "execution_count": 56,
     "metadata": {},
     "output_type": "execute_result"
    }
   ],
   "source": [
    "compute_cost(x_train, y_train, w=1.5, b=0)"
   ]
  },
  {
   "cell_type": "code",
   "execution_count": 57,
   "id": "e49cf7c1-283c-4c77-977e-987c3d5e8be6",
   "metadata": {},
   "outputs": [],
   "source": [
    "def compute_gradients(x, y, w, b):\n",
    "    m = x.shape[0]\n",
    "    dj_dw = 0\n",
    "    dj_db = 0\n",
    "\n",
    "    for i in range(0, m):\n",
    "        f_wb = w * x[i] + b\n",
    "        dj_dw += (f_wb - y[i]) * x[i]\n",
    "        dj_db += (f_wb - y[i])\n",
    "\n",
    "    dj_dw = dj_dw / m\n",
    "    dj_db = dj_db / m\n",
    "\n",
    "    return dj_dw, dj_db"
   ]
  },
  {
   "cell_type": "code",
   "execution_count": 58,
   "id": "8696de65-5e93-40a9-ba8c-b2cad5ebd815",
   "metadata": {},
   "outputs": [
    {
     "data": {
      "text/plain": [
       "(-9212560.0, -127350.0)"
      ]
     },
     "execution_count": 58,
     "metadata": {},
     "output_type": "execute_result"
    }
   ],
   "source": [
    "compute_gradients(x_train, y_train, w=10, b=10)"
   ]
  },
  {
   "cell_type": "code",
   "execution_count": 59,
   "id": "2472c0f0-9590-4f54-8087-a5c9423b5da5",
   "metadata": {},
   "outputs": [],
   "source": [
    "def gradient_descent(x, y, w_in, b_in, alpha, num_iterations, cost_function, gradient_function):\n",
    "\n",
    "    w = copy.deepcopy(w_in)\n",
    "    b = copy.deepcopy(b_in)\n",
    "\n",
    "    # cost function evolution - loss\n",
    "    j_history = []\n",
    "\n",
    "    for i in range(0, num_iterations):\n",
    "        dj_dw, dj_db = gradient_function(x, y, w, b)\n",
    "\n",
    "        w = w - alpha * dj_dw\n",
    "        b = b - alpha * dj_db\n",
    "\n",
    "        j_history.append(cost_function(x, y, w, b))\n",
    "\n",
    "        print(f\"Iteraton: {i} | Cost: {j_history[i]:.4} | dj_dw: {dj_dw:.4}, | dj_db: {dj_db:.4} | w: {w:.4} | b: {b:.4}\")\n",
    "\n",
    "    return w, b, j_history\n",
    "\n",
    "    \n",
    "    \n",
    "    "
   ]
  },
  {
   "cell_type": "code",
   "execution_count": 69,
   "id": "c16d0a3c-d9ad-4fc8-a6eb-e2e60d9dc17e",
   "metadata": {},
   "outputs": [
    {
     "name": "stdout",
     "output_type": "stream",
     "text": [
      "Iteraton: 0 | Cost: 2.611e+09 | dj_dw: -9.26e+06, | dj_db: -1.28e+05 | w: 926.0 | b: 12.8\n",
      "Iteraton: 1 | Cost: 7.522e+08 | dj_dw: -4.926e+06, | dj_db: -6.872e+04 | w: 1.419e+03 | b: 19.67\n",
      "Iteraton: 2 | Cost: 2.264e+08 | dj_dw: -2.62e+06, | dj_db: -3.719e+04 | w: 1.681e+03 | b: 23.39\n",
      "Iteraton: 3 | Cost: 7.76e+07 | dj_dw: -1.394e+06, | dj_db: -2.042e+04 | w: 1.82e+03 | b: 25.43\n",
      "Iteraton: 4 | Cost: 3.55e+07 | dj_dw: -7.412e+05, | dj_db: -1.15e+04 | w: 1.894e+03 | b: 26.58\n",
      "Iteraton: 5 | Cost: 2.359e+07 | dj_dw: -3.943e+05, | dj_db: -6.756e+03 | w: 1.933e+03 | b: 27.26\n",
      "Iteraton: 6 | Cost: 2.022e+07 | dj_dw: -2.097e+05, | dj_db: -4.232e+03 | w: 1.954e+03 | b: 27.68\n",
      "Iteraton: 7 | Cost: 1.927e+07 | dj_dw: -1.115e+05, | dj_db: -2.889e+03 | w: 1.966e+03 | b: 27.97\n",
      "Iteraton: 8 | Cost: 1.9e+07 | dj_dw: -5.932e+04, | dj_db: -2.175e+03 | w: 1.972e+03 | b: 28.19\n",
      "Iteraton: 9 | Cost: 1.892e+07 | dj_dw: -3.154e+04, | dj_db: -1.795e+03 | w: 1.975e+03 | b: 28.37\n",
      "(w, b) found by gradient descent 1.975e+03 28.37\n"
     ]
    }
   ],
   "source": [
    "w_init = 0\n",
    "b_init = 0\n",
    "\n",
    "iterations = 10\n",
    "alpha = 1.0e-4\n",
    "\n",
    "w_final, b_final, j_history = gradient_descent(x=x_train, y=y_train, w_in=w_init, b_in=b_init, alpha=alpha, num_iterations=iterations, cost_function=compute_cost, gradient_function=compute_gradients)\n",
    "print(f\"(w, b) found by gradient descent {w_final:.4} {b_final:.4}\")"
   ]
  },
  {
   "cell_type": "code",
   "execution_count": 70,
   "id": "c918f153-5d82-473a-927e-72281ac082eb",
   "metadata": {},
   "outputs": [
    {
     "data": {
      "text/plain": [
       "[2610854101.12,\n",
       " 752239721.6462482,\n",
       " 226380181.73583627,\n",
       " 77598144.66625783,\n",
       " 35502978.22807495,\n",
       " 23592822.246017136,\n",
       " 20222937.912183017,\n",
       " 19269360.175410174,\n",
       " 18999430.199724402,\n",
       " 18922925.29169137]"
      ]
     },
     "execution_count": 70,
     "metadata": {},
     "output_type": "execute_result"
    }
   ],
   "source": [
    "j_history"
   ]
  },
  {
   "cell_type": "code",
   "execution_count": null,
   "id": "178d5025-2d27-4c9b-84f8-0d5c2d716638",
   "metadata": {},
   "outputs": [],
   "source": []
  },
  {
   "cell_type": "code",
   "execution_count": null,
   "id": "1af5506a-8063-4354-be06-a9d7ff6a04c7",
   "metadata": {},
   "outputs": [],
   "source": []
  },
  {
   "cell_type": "code",
   "execution_count": null,
   "id": "2aadc8b7-474b-4854-ac66-d9875596cf91",
   "metadata": {},
   "outputs": [],
   "source": []
  },
  {
   "cell_type": "code",
   "execution_count": null,
   "id": "b87623e1-91dd-4ab7-b73d-81767f916dd3",
   "metadata": {},
   "outputs": [],
   "source": []
  },
  {
   "cell_type": "code",
   "execution_count": null,
   "id": "5bf464b3-27f7-4731-9021-2a49405f0e2b",
   "metadata": {},
   "outputs": [],
   "source": []
  },
  {
   "cell_type": "markdown",
   "id": "2d9a18dd-4507-4945-99b9-efafbf7f56c9",
   "metadata": {},
   "source": [
    "### Metrics"
   ]
  },
  {
   "cell_type": "code",
   "execution_count": null,
   "id": "7bec90b6-8266-4259-966d-8923f7bf7329",
   "metadata": {},
   "outputs": [],
   "source": []
  },
  {
   "cell_type": "code",
   "execution_count": 71,
   "id": "ec6ce8a5-8dd8-45f0-bc2c-8bda2a31376e",
   "metadata": {},
   "outputs": [
    {
     "data": {
      "image/png": "[encoded data removed]",
      "text/plain": [
       "<Figure size 640x480 with 1 Axes>"
      ]
     },
     "metadata": {},
     "output_type": "display_data"
    }
   ],
   "source": [
    "plt.plot(j_history)\n",
    "plt.title(\"Loss evolution (Cost function per iteration)\")\n",
    "plt.xlabel(\"Iteration number\")\n",
    "plt.ylabel(\"Cost function\")\n",
    "plt.show()"
   ]
  },
  {
   "cell_type": "code",
   "execution_count": null,
   "id": "4da51969-c647-4d4b-85e2-76a3b030b610",
   "metadata": {},
   "outputs": [],
   "source": []
  },
  {
   "cell_type": "code",
   "execution_count": null,
   "id": "248ce937-2b0d-461b-953d-419f30cae9e3",
   "metadata": {},
   "outputs": [],
   "source": []
  },
  {
   "cell_type": "code",
   "execution_count": 72,
   "id": "df3ab5b5-4639-4692-bb2b-a6b1609f9b53",
   "metadata": {},
   "outputs": [],
   "source": [
    "def r2_score(y, y_):\n",
    "    num = np.sum((y - y_)**2)\n",
    "    denum = np.sum((y - y.mean())**2)\n",
    "\n",
    "    score = 1 - num / denum\n",
    "    return score"
   ]
  },
  {
   "cell_type": "code",
   "execution_count": 73,
   "id": "b96d5475-d7eb-4cde-bf3a-abcfb10eeb4c",
   "metadata": {},
   "outputs": [
    {
     "data": {
      "text/plain": [
       "[59268.205148533605,\n",
       " 98761.429445698,\n",
       " 118508.04159428019,\n",
       " 158001.26589144458,\n",
       " 197494.49018860896]"
      ]
     },
     "execution_count": 73,
     "metadata": {},
     "output_type": "execute_result"
    }
   ],
   "source": [
    "y_ = [w_final * i + b_final for i in x_train]\n",
    "y_"
   ]
  },
  {
   "cell_type": "code",
   "execution_count": 74,
   "id": "531bbd36-a9c8-4b22-9585-b71f9d5a3bc5",
   "metadata": {},
   "outputs": [
    {
     "data": {
      "text/plain": [
       "0.9808472416075998"
      ]
     },
     "execution_count": 74,
     "metadata": {},
     "output_type": "execute_result"
    }
   ],
   "source": [
    "# the greater the r2 score the more correct our prediction is\n",
    "r2_score(y_train, y_) # between 0 and 1."
   ]
  },
  {
   "cell_type": "code",
   "execution_count": null,
   "id": "69b73a88-1a36-4003-8e38-7dba026a6ca1",
   "metadata": {},
   "outputs": [],
   "source": []
  },
  {
   "cell_type": "code",
   "execution_count": null,
   "id": "e64ffa90-c2a5-4391-8561-bb362fdb7d04",
   "metadata": {},
   "outputs": [],
   "source": []
  },
  {
   "cell_type": "markdown",
   "id": "e6088b1a-a659-40e2-8226-21e218789ae4",
   "metadata": {},
   "source": [
    "### Prediction"
   ]
  },
  {
   "cell_type": "code",
   "execution_count": 75,
   "id": "8fdf8417-d7cf-45bc-9613-4a364dfbcc3e",
   "metadata": {},
   "outputs": [],
   "source": [
    "x_train = np.array([30, 50, 60, 80, 100])\n",
    "y_train = np.array([70000, 100000, 120000, 150000, 200000])"
   ]
  },
  {
   "cell_type": "code",
   "execution_count": 76,
   "id": "59430170-a8b2-4fe3-80c7-bfb91a9cdc49",
   "metadata": {},
   "outputs": [
    {
     "name": "stdout",
     "output_type": "stream",
     "text": [
      "A house with size(m^2) 20 has a price of: 39521.59299995141\n",
      "A house with size(m^2) 30 has a price of: 59268.205148533605\n",
      "A house with size(m^2) 50 has a price of: 98761.429445698\n",
      "A house with size(m^2) 60 has a price of: 118508.04159428019\n",
      "A house with size(m^2) 80 has a price of: 158001.26589144458\n",
      "A house with size(m^2) 100 has a price of: 197494.49018860896\n"
     ]
    }
   ],
   "source": [
    "size_of_house = 20\n",
    "print(f\"A house with size(m^2) {size_of_house} has a price of: {w_final * size_of_house + b_final}\")\n",
    "\n",
    "size_of_house = 30\n",
    "print(f\"A house with size(m^2) {size_of_house} has a price of: {w_final * size_of_house + b_final}\")\n",
    "\n",
    "\n",
    "size_of_house = 50\n",
    "print(f\"A house with size(m^2) {size_of_house} has a price of: {w_final * size_of_house + b_final}\")\n",
    "\n",
    "size_of_house = 60\n",
    "print(f\"A house with size(m^2) {size_of_house} has a price of: {w_final * size_of_house + b_final}\")\n",
    "\n",
    "\n",
    "size_of_house = 80\n",
    "print(f\"A house with size(m^2) {size_of_house} has a price of: {w_final * size_of_house + b_final}\")\n",
    "\n",
    "\n",
    "size_of_house = 100\n",
    "print(f\"A house with size(m^2) {size_of_house} has a price of: {w_final * size_of_house + b_final}\")\n",
    "\n"
   ]
  },
  {
   "cell_type": "code",
   "execution_count": null,
   "id": "a0c78b99-dcca-4c37-9a98-11e62a61d775",
   "metadata": {},
   "outputs": [],
   "source": []
  },
  {
   "cell_type": "code",
   "execution_count": 37,
   "id": "14141cdf-f081-469b-8a1e-3fc22f6ca952",
   "metadata": {},
   "outputs": [
    {
     "data": {
      "text/plain": [
       "[<matplotlib.lines.Line2D at 0x1ee173a0550>]"
      ]
     },
     "execution_count": 37,
     "metadata": {},
     "output_type": "execute_result"
    },
    {
     "data": {
      "image/png": "[encoded data removed]",
      "text/plain": [
       "<Figure size 640x480 with 1 Axes>"
      ]
     },
     "metadata": {},
     "output_type": "display_data"
    }
   ],
   "source": [
    "plt.scatter(x_train, y_train)\n",
    "plt.plot(x_train, w_final * x_train + b_final, c='r')"
   ]
  },
  {
   "cell_type": "code",
   "execution_count": null,
   "id": "ffb4f891-25df-4543-b12f-8f5ca1d17479",
   "metadata": {},
   "outputs": [],
   "source": []
  }
 ],
 "metadata": {
  "kernelspec": {
   "display_name": "Python 3 (ipykernel)",
   "language": "python",
   "name": "python3"
  },
  "language_info": {
   "codemirror_mode": {
    "name": "ipython",
    "version": 3
   },
   "file_extension": ".py",
   "mimetype": "text/x-python",
   "name": "python",
   "nbconvert_exporter": "python",
   "pygments_lexer": "ipython3",
   "version": "3.11.3"
  }
 },
 "nbformat": 4,
 "nbformat_minor": 5
}
